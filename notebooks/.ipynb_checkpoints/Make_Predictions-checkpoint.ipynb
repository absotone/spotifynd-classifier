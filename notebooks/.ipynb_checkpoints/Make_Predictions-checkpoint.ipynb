{
 "cells": [
  {
   "cell_type": "code",
   "execution_count": 1,
   "id": "4c2779bb",
   "metadata": {},
   "outputs": [],
   "source": [
    "import pandas as pd\n",
    "import numpy as np\n",
    "import matplotlib.pyplot as plt \n",
    "import seaborn as sns \n",
    "import pickle \n",
    "\n",
    "%matplotlib inline "
   ]
  },
  {
   "cell_type": "markdown",
   "id": "4d8c4a4f",
   "metadata": {},
   "source": [
    "## Load model from file"
   ]
  },
  {
   "cell_type": "code",
   "execution_count": 2,
   "id": "5ba1b173",
   "metadata": {},
   "outputs": [],
   "source": [
    "def loadModel(path):\n",
    "    return pickle.load(open(path,\"rb\"))"
   ]
  },
  {
   "cell_type": "code",
   "execution_count": 3,
   "id": "36caf158",
   "metadata": {},
   "outputs": [
    {
     "data": {
      "text/plain": [
       "KMeans(n_clusters=10, random_state=42)"
      ]
     },
     "execution_count": 3,
     "metadata": {},
     "output_type": "execute_result"
    }
   ],
   "source": [
    "loaded_model = loadModel(\"../models/simplemodel.sav\")\n",
    "\n",
    "loaded_model"
   ]
  },
  {
   "cell_type": "markdown",
   "id": "70b4929f",
   "metadata": {},
   "source": [
    "## Take Input Data"
   ]
  },
  {
   "cell_type": "code",
   "execution_count": 4,
   "id": "7cbf6fc8",
   "metadata": {},
   "outputs": [],
   "source": [
    "def getDataList(danceability, energy, instrumentalness, key, liveness, speechiness, tempo, valence):\n",
    "    l = [danceability, energy, instrumentalness, key, liveness, speechiness, tempo, valence]\n",
    "    floatList =  [float(x) for x in l]\n",
    "    return np.array(floatList).reshape(1, -1)\n",
    "\n"
   ]
  },
  {
   "cell_type": "code",
   "execution_count": 5,
   "id": "21b4159f",
   "metadata": {},
   "outputs": [
    {
     "name": "stdout",
     "output_type": "stream",
     "text": [
      "[[7.25000e-01 2.59000e-01 3.00000e-06 2.00000e+00 1.12000e-01 3.82000e-02\n",
      "  1.33849e+02 2.00000e-01]]\n"
     ]
    }
   ],
   "source": [
    "sampleDataValues = getDataList(0.725 ,0.259 ,0.000003 ,2 ,0.112 ,0.0382 ,133.849 ,0.2)\n",
    "print(sampleDataValues)"
   ]
  },
  {
   "cell_type": "markdown",
   "id": "803a413a",
   "metadata": {},
   "source": [
    "## Get the Output Label"
   ]
  },
  {
   "cell_type": "code",
   "execution_count": 6,
   "id": "bdcc7c92",
   "metadata": {},
   "outputs": [
    {
     "name": "stdout",
     "output_type": "stream",
     "text": [
      "The label is : 7\n"
     ]
    }
   ],
   "source": [
    "print(\"The label is :\",loaded_model.predict(sampleDataValues)[0])"
   ]
  }
 ],
 "metadata": {
  "kernelspec": {
   "display_name": "Python 3 (ipykernel)",
   "language": "python",
   "name": "python3"
  },
  "language_info": {
   "codemirror_mode": {
    "name": "ipython",
    "version": 3
   },
   "file_extension": ".py",
   "mimetype": "text/x-python",
   "name": "python",
   "nbconvert_exporter": "python",
   "pygments_lexer": "ipython3",
   "version": "3.8.10"
  }
 },
 "nbformat": 4,
 "nbformat_minor": 5
}
