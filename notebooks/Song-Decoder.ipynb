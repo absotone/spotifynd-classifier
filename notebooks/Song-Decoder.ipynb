{
 "cells": [
  {
   "cell_type": "code",
   "execution_count": 1,
   "id": "b180506d",
   "metadata": {},
   "outputs": [],
   "source": [
    "import pandas as pd\n",
    "import numpy as np\n",
    "\n",
    "import matplotlib.pyplot as plt\n",
    "import seaborn as sns\n",
    "%matplotlib inline\n",
    "\n",
    "import pickle \n",
    "import json"
   ]
  },
  {
   "cell_type": "markdown",
   "id": "7ae0820d",
   "metadata": {},
   "source": [
    "## Importing the Data"
   ]
  },
  {
   "cell_type": "code",
   "execution_count": 2,
   "id": "9e5de188",
   "metadata": {},
   "outputs": [
    {
     "data": {
      "text/plain": [
       "169909"
      ]
     },
     "execution_count": 2,
     "metadata": {},
     "output_type": "execute_result"
    }
   ],
   "source": [
    "df = pd.read_csv(\"../data/data.csv\")\n",
    "len(df)"
   ]
  },
  {
   "cell_type": "code",
   "execution_count": 3,
   "id": "fd8874ea",
   "metadata": {},
   "outputs": [
    {
     "data": {
      "text/plain": [
       "169909"
      ]
     },
     "execution_count": 3,
     "metadata": {},
     "output_type": "execute_result"
    }
   ],
   "source": [
    "song_data = df[['danceability', 'energy', 'instrumentalness', 'key', 'liveness', 'speechiness', 'tempo', 'valence']]\n",
    "len(song_data)"
   ]
  },
  {
   "cell_type": "markdown",
   "id": "e14ac563",
   "metadata": {},
   "source": [
    "## Loading the Model"
   ]
  },
  {
   "cell_type": "code",
   "execution_count": 4,
   "id": "685ab07e",
   "metadata": {},
   "outputs": [
    {
     "name": "stdout",
     "output_type": "stream",
     "text": [
      "KMeans(n_clusters=1000, random_state=42)\n"
     ]
    },
    {
     "name": "stderr",
     "output_type": "stream",
     "text": [
      "/home/vijay/.local/lib/python3.8/site-packages/sklearn/base.py:310: UserWarning: Trying to unpickle estimator KMeans from version 0.23.2 when using version 0.24.2. This might lead to breaking code or invalid results. Use at your own risk.\n",
      "  warnings.warn(\n"
     ]
    }
   ],
   "source": [
    "filename = \"../models/complexmodel.sav\"\n",
    "model = pickle.load(open(filename,\"rb\"))\n",
    "print(model)"
   ]
  },
  {
   "cell_type": "code",
   "execution_count": 5,
   "id": "45716b8d",
   "metadata": {},
   "outputs": [
    {
     "data": {
      "text/html": [
       "<div>\n",
       "<style scoped>\n",
       "    .dataframe tbody tr th:only-of-type {\n",
       "        vertical-align: middle;\n",
       "    }\n",
       "\n",
       "    .dataframe tbody tr th {\n",
       "        vertical-align: top;\n",
       "    }\n",
       "\n",
       "    .dataframe thead th {\n",
       "        text-align: right;\n",
       "    }\n",
       "</style>\n",
       "<table border=\"1\" class=\"dataframe\">\n",
       "  <thead>\n",
       "    <tr style=\"text-align: right;\">\n",
       "      <th></th>\n",
       "      <th>danceability</th>\n",
       "      <th>energy</th>\n",
       "      <th>instrumentalness</th>\n",
       "      <th>key</th>\n",
       "      <th>liveness</th>\n",
       "      <th>speechiness</th>\n",
       "      <th>tempo</th>\n",
       "      <th>valence</th>\n",
       "    </tr>\n",
       "  </thead>\n",
       "  <tbody>\n",
       "    <tr>\n",
       "      <th>6529</th>\n",
       "      <td>0.591</td>\n",
       "      <td>0.973</td>\n",
       "      <td>0.225000</td>\n",
       "      <td>10</td>\n",
       "      <td>0.5010</td>\n",
       "      <td>0.1030</td>\n",
       "      <td>132.209</td>\n",
       "      <td>0.3710</td>\n",
       "    </tr>\n",
       "    <tr>\n",
       "      <th>139099</th>\n",
       "      <td>0.533</td>\n",
       "      <td>0.638</td>\n",
       "      <td>0.000000</td>\n",
       "      <td>0</td>\n",
       "      <td>0.2640</td>\n",
       "      <td>0.0291</td>\n",
       "      <td>137.798</td>\n",
       "      <td>0.7720</td>\n",
       "    </tr>\n",
       "    <tr>\n",
       "      <th>70134</th>\n",
       "      <td>0.346</td>\n",
       "      <td>0.597</td>\n",
       "      <td>0.000002</td>\n",
       "      <td>11</td>\n",
       "      <td>0.1010</td>\n",
       "      <td>0.0801</td>\n",
       "      <td>70.809</td>\n",
       "      <td>0.3240</td>\n",
       "    </tr>\n",
       "    <tr>\n",
       "      <th>34157</th>\n",
       "      <td>0.335</td>\n",
       "      <td>0.204</td>\n",
       "      <td>0.000000</td>\n",
       "      <td>8</td>\n",
       "      <td>0.0894</td>\n",
       "      <td>0.0331</td>\n",
       "      <td>75.539</td>\n",
       "      <td>0.2900</td>\n",
       "    </tr>\n",
       "    <tr>\n",
       "      <th>46186</th>\n",
       "      <td>0.575</td>\n",
       "      <td>0.921</td>\n",
       "      <td>0.000766</td>\n",
       "      <td>2</td>\n",
       "      <td>0.2930</td>\n",
       "      <td>0.0661</td>\n",
       "      <td>125.922</td>\n",
       "      <td>0.4160</td>\n",
       "    </tr>\n",
       "    <tr>\n",
       "      <th>84085</th>\n",
       "      <td>0.570</td>\n",
       "      <td>0.554</td>\n",
       "      <td>0.000000</td>\n",
       "      <td>9</td>\n",
       "      <td>0.1390</td>\n",
       "      <td>0.0288</td>\n",
       "      <td>122.135</td>\n",
       "      <td>0.3720</td>\n",
       "    </tr>\n",
       "    <tr>\n",
       "      <th>128577</th>\n",
       "      <td>0.153</td>\n",
       "      <td>0.225</td>\n",
       "      <td>0.960000</td>\n",
       "      <td>3</td>\n",
       "      <td>0.1660</td>\n",
       "      <td>0.0378</td>\n",
       "      <td>135.140</td>\n",
       "      <td>0.1970</td>\n",
       "    </tr>\n",
       "    <tr>\n",
       "      <th>71056</th>\n",
       "      <td>0.736</td>\n",
       "      <td>0.397</td>\n",
       "      <td>0.134000</td>\n",
       "      <td>0</td>\n",
       "      <td>0.3450</td>\n",
       "      <td>0.0586</td>\n",
       "      <td>94.479</td>\n",
       "      <td>0.9160</td>\n",
       "    </tr>\n",
       "    <tr>\n",
       "      <th>145524</th>\n",
       "      <td>0.331</td>\n",
       "      <td>0.260</td>\n",
       "      <td>0.917000</td>\n",
       "      <td>1</td>\n",
       "      <td>0.1300</td>\n",
       "      <td>0.0296</td>\n",
       "      <td>79.899</td>\n",
       "      <td>0.0347</td>\n",
       "    </tr>\n",
       "    <tr>\n",
       "      <th>128822</th>\n",
       "      <td>0.437</td>\n",
       "      <td>0.152</td>\n",
       "      <td>0.000855</td>\n",
       "      <td>9</td>\n",
       "      <td>0.3470</td>\n",
       "      <td>0.1030</td>\n",
       "      <td>173.180</td>\n",
       "      <td>0.5110</td>\n",
       "    </tr>\n",
       "  </tbody>\n",
       "</table>\n",
       "</div>"
      ],
      "text/plain": [
       "        danceability  energy  instrumentalness  key  liveness  speechiness  \\\n",
       "6529           0.591   0.973          0.225000   10    0.5010       0.1030   \n",
       "139099         0.533   0.638          0.000000    0    0.2640       0.0291   \n",
       "70134          0.346   0.597          0.000002   11    0.1010       0.0801   \n",
       "34157          0.335   0.204          0.000000    8    0.0894       0.0331   \n",
       "46186          0.575   0.921          0.000766    2    0.2930       0.0661   \n",
       "84085          0.570   0.554          0.000000    9    0.1390       0.0288   \n",
       "128577         0.153   0.225          0.960000    3    0.1660       0.0378   \n",
       "71056          0.736   0.397          0.134000    0    0.3450       0.0586   \n",
       "145524         0.331   0.260          0.917000    1    0.1300       0.0296   \n",
       "128822         0.437   0.152          0.000855    9    0.3470       0.1030   \n",
       "\n",
       "          tempo  valence  \n",
       "6529    132.209   0.3710  \n",
       "139099  137.798   0.7720  \n",
       "70134    70.809   0.3240  \n",
       "34157    75.539   0.2900  \n",
       "46186   125.922   0.4160  \n",
       "84085   122.135   0.3720  \n",
       "128577  135.140   0.1970  \n",
       "71056    94.479   0.9160  \n",
       "145524   79.899   0.0347  \n",
       "128822  173.180   0.5110  "
      ]
     },
     "execution_count": 5,
     "metadata": {},
     "output_type": "execute_result"
    }
   ],
   "source": [
    "predicted_song_data = song_data.copy(deep=True)\n",
    "\n",
    "predicted_song_data.sample(10)"
   ]
  },
  {
   "cell_type": "markdown",
   "id": "b8d7518f",
   "metadata": {},
   "source": [
    "## Making predictions and storing relevant columns into another dataframe"
   ]
  },
  {
   "cell_type": "code",
   "execution_count": 6,
   "id": "e99dde40",
   "metadata": {},
   "outputs": [],
   "source": [
    "predicted_song_data[\"label\"] = model.predict(predicted_song_data)\n",
    "predicted_song_data[\"id\"] = df[\"id\"]\n",
    "predicted_song_data[\"name\"] = df[\"name\"]"
   ]
  },
  {
   "cell_type": "code",
   "execution_count": 7,
   "id": "51cb1fca",
   "metadata": {},
   "outputs": [
    {
     "data": {
      "text/html": [
       "<div>\n",
       "<style scoped>\n",
       "    .dataframe tbody tr th:only-of-type {\n",
       "        vertical-align: middle;\n",
       "    }\n",
       "\n",
       "    .dataframe tbody tr th {\n",
       "        vertical-align: top;\n",
       "    }\n",
       "\n",
       "    .dataframe thead th {\n",
       "        text-align: right;\n",
       "    }\n",
       "</style>\n",
       "<table border=\"1\" class=\"dataframe\">\n",
       "  <thead>\n",
       "    <tr style=\"text-align: right;\">\n",
       "      <th></th>\n",
       "      <th>id</th>\n",
       "      <th>name</th>\n",
       "      <th>label</th>\n",
       "    </tr>\n",
       "  </thead>\n",
       "  <tbody>\n",
       "    <tr>\n",
       "      <th>0</th>\n",
       "      <td>6KbQ3uYMLKb5jDxLF7wYDD</td>\n",
       "      <td>Singende Bataillone 1. Teil</td>\n",
       "      <td>207</td>\n",
       "    </tr>\n",
       "    <tr>\n",
       "      <th>1</th>\n",
       "      <td>6KuQTIu1KoTTkLXKrwlLPV</td>\n",
       "      <td>Fantasiestücke, Op. 111: Più tosto lento</td>\n",
       "      <td>63</td>\n",
       "    </tr>\n",
       "    <tr>\n",
       "      <th>2</th>\n",
       "      <td>6L63VW0PibdM1HDSBoqnoM</td>\n",
       "      <td>Chapter 1.18 - Zamek kaniowski</td>\n",
       "      <td>633</td>\n",
       "    </tr>\n",
       "    <tr>\n",
       "      <th>3</th>\n",
       "      <td>6M94FkXd15sOAOQYRnWPN8</td>\n",
       "      <td>Bebamos Juntos - Instrumental (Remasterizado)</td>\n",
       "      <td>784</td>\n",
       "    </tr>\n",
       "    <tr>\n",
       "      <th>4</th>\n",
       "      <td>6N6tiFZ9vLTSOIxkj8qKrd</td>\n",
       "      <td>Polonaise-Fantaisie in A-Flat Major, Op. 61</td>\n",
       "      <td>455</td>\n",
       "    </tr>\n",
       "  </tbody>\n",
       "</table>\n",
       "</div>"
      ],
      "text/plain": [
       "                       id                                           name  \\\n",
       "0  6KbQ3uYMLKb5jDxLF7wYDD                    Singende Bataillone 1. Teil   \n",
       "1  6KuQTIu1KoTTkLXKrwlLPV       Fantasiestücke, Op. 111: Più tosto lento   \n",
       "2  6L63VW0PibdM1HDSBoqnoM                 Chapter 1.18 - Zamek kaniowski   \n",
       "3  6M94FkXd15sOAOQYRnWPN8  Bebamos Juntos - Instrumental (Remasterizado)   \n",
       "4  6N6tiFZ9vLTSOIxkj8qKrd    Polonaise-Fantaisie in A-Flat Major, Op. 61   \n",
       "\n",
       "   label  \n",
       "0    207  \n",
       "1     63  \n",
       "2    633  \n",
       "3    784  \n",
       "4    455  "
      ]
     },
     "execution_count": 7,
     "metadata": {},
     "output_type": "execute_result"
    }
   ],
   "source": [
    "predicted_song_data = predicted_song_data[[\"id\",\"name\",\"label\"]]\n",
    "\n",
    "predicted_song_data.head()"
   ]
  },
  {
   "cell_type": "markdown",
   "id": "8b2d9778",
   "metadata": {},
   "source": [
    "## Sorting the entries by Label Value"
   ]
  },
  {
   "cell_type": "code",
   "execution_count": 8,
   "id": "c5ce1eda",
   "metadata": {},
   "outputs": [],
   "source": [
    "sorted_df = predicted_song_data.sort_values(by = [\"label\"], ascending=True)"
   ]
  },
  {
   "cell_type": "code",
   "execution_count": 9,
   "id": "3993b316",
   "metadata": {},
   "outputs": [],
   "source": [
    "y = []\n",
    "x = range(1000)\n",
    "\n",
    "for i in x:\n",
    "    temp = sorted_df[sorted_df[\"label\"] == i]\n",
    "    y.append(len(temp))"
   ]
  },
  {
   "cell_type": "code",
   "execution_count": 10,
   "id": "8efde335",
   "metadata": {},
   "outputs": [
    {
     "data": {
      "image/png": "[encoded data removed]",
      "text/plain": [
       "<Figure size 432x288 with 1 Axes>"
      ]
     },
     "metadata": {
      "needs_background": "light"
     },
     "output_type": "display_data"
    }
   ],
   "source": [
    "plt.plot(x,y)\n",
    "plt.xlabel = \"label\"\n",
    "plt.ylabel = \"# Songs\"\n",
    "plt.show()"
   ]
  },
  {
   "cell_type": "markdown",
   "id": "5ad079c9",
   "metadata": {},
   "source": [
    "## Saving the filtered values into a `.csv` file"
   ]
  },
  {
   "cell_type": "code",
   "execution_count": 11,
   "id": "b54b5e3b",
   "metadata": {},
   "outputs": [],
   "source": [
    "sorted_df.to_csv('../data/min.csv')"
   ]
  },
  {
   "cell_type": "markdown",
   "id": "88e6057d",
   "metadata": {},
   "source": [
    "## Testing the saved data"
   ]
  },
  {
   "cell_type": "code",
   "execution_count": 12,
   "id": "4dc717ea",
   "metadata": {},
   "outputs": [
    {
     "data": {
      "text/html": [
       "<div>\n",
       "<style scoped>\n",
       "    .dataframe tbody tr th:only-of-type {\n",
       "        vertical-align: middle;\n",
       "    }\n",
       "\n",
       "    .dataframe tbody tr th {\n",
       "        vertical-align: top;\n",
       "    }\n",
       "\n",
       "    .dataframe thead th {\n",
       "        text-align: right;\n",
       "    }\n",
       "</style>\n",
       "<table border=\"1\" class=\"dataframe\">\n",
       "  <thead>\n",
       "    <tr style=\"text-align: right;\">\n",
       "      <th></th>\n",
       "      <th>Unnamed: 0</th>\n",
       "      <th>id</th>\n",
       "      <th>name</th>\n",
       "      <th>label</th>\n",
       "    </tr>\n",
       "  </thead>\n",
       "  <tbody>\n",
       "    <tr>\n",
       "      <th>70602</th>\n",
       "      <td>54018</td>\n",
       "      <td>2o8niievE9IAVquiESfTWJ</td>\n",
       "      <td>Breakdown</td>\n",
       "      <td>398</td>\n",
       "    </tr>\n",
       "    <tr>\n",
       "      <th>48543</th>\n",
       "      <td>16545</td>\n",
       "      <td>5rEyEaL5NrG9AV0GQHewyl</td>\n",
       "      <td>The Four Insurgent Generals</td>\n",
       "      <td>283</td>\n",
       "    </tr>\n",
       "    <tr>\n",
       "      <th>122284</th>\n",
       "      <td>33447</td>\n",
       "      <td>1i2Rj6GA7i9Xr8vuktOlpS</td>\n",
       "      <td>The Man I Love - Live</td>\n",
       "      <td>693</td>\n",
       "    </tr>\n",
       "    <tr>\n",
       "      <th>21100</th>\n",
       "      <td>82545</td>\n",
       "      <td>4CoGNqLap7UGU5Q3VdKug0</td>\n",
       "      <td>Ain't Too Proud To Beg</td>\n",
       "      <td>126</td>\n",
       "    </tr>\n",
       "    <tr>\n",
       "      <th>26162</th>\n",
       "      <td>129370</td>\n",
       "      <td>6HV6DsfmpJnEjNAfMzzlyK</td>\n",
       "      <td>It Ain't Necessarily So</td>\n",
       "      <td>158</td>\n",
       "    </tr>\n",
       "    <tr>\n",
       "      <th>133863</th>\n",
       "      <td>94387</td>\n",
       "      <td>0SaopEgTo6O5dJoFXBbulL</td>\n",
       "      <td>Friends Will Be Friends - Remastered 2011</td>\n",
       "      <td>762</td>\n",
       "    </tr>\n",
       "    <tr>\n",
       "      <th>13911</th>\n",
       "      <td>61904</td>\n",
       "      <td>4qheoQdPn1nJ7QLGDGCSdb</td>\n",
       "      <td>The Bleeding (Acoustic)</td>\n",
       "      <td>79</td>\n",
       "    </tr>\n",
       "    <tr>\n",
       "      <th>11068</th>\n",
       "      <td>77047</td>\n",
       "      <td>0jicrrstuAzf6GLIUdwAQk</td>\n",
       "      <td>Loco</td>\n",
       "      <td>65</td>\n",
       "    </tr>\n",
       "    <tr>\n",
       "      <th>144077</th>\n",
       "      <td>72257</td>\n",
       "      <td>5VU8Ztn9dWxQNB8JNDPoMW</td>\n",
       "      <td>Train Of Love (2017 Remaster)</td>\n",
       "      <td>827</td>\n",
       "    </tr>\n",
       "    <tr>\n",
       "      <th>135558</th>\n",
       "      <td>165206</td>\n",
       "      <td>3Xvab69hUWlLaFOfbzm99k</td>\n",
       "      <td>Nobody's Fool</td>\n",
       "      <td>773</td>\n",
       "    </tr>\n",
       "    <tr>\n",
       "      <th>126547</th>\n",
       "      <td>167433</td>\n",
       "      <td>4E34Cz22xGL2J7j8pR10A4</td>\n",
       "      <td>Get Up On a Room</td>\n",
       "      <td>716</td>\n",
       "    </tr>\n",
       "    <tr>\n",
       "      <th>48749</th>\n",
       "      <td>43993</td>\n",
       "      <td>1lODANC77agFtJurYOsEzz</td>\n",
       "      <td>I've Aged Twenty Years In Five</td>\n",
       "      <td>284</td>\n",
       "    </tr>\n",
       "    <tr>\n",
       "      <th>16583</th>\n",
       "      <td>136752</td>\n",
       "      <td>1QHKwkMJe7JfusODITplwj</td>\n",
       "      <td>Preludes, Op.34: No. 14 in E-Flat Minor</td>\n",
       "      <td>95</td>\n",
       "    </tr>\n",
       "    <tr>\n",
       "      <th>33557</th>\n",
       "      <td>78920</td>\n",
       "      <td>0UMQb3B6f7AcvWocXizwOM</td>\n",
       "      <td>Часть 92.2 - Прощай оружие</td>\n",
       "      <td>197</td>\n",
       "    </tr>\n",
       "    <tr>\n",
       "      <th>72697</th>\n",
       "      <td>124039</td>\n",
       "      <td>0GvaNolz2vhHikR26yRLmv</td>\n",
       "      <td>Wendy Clear</td>\n",
       "      <td>408</td>\n",
       "    </tr>\n",
       "    <tr>\n",
       "      <th>106840</th>\n",
       "      <td>39940</td>\n",
       "      <td>5ZvHcR4OSwvEV5IhigbTOT</td>\n",
       "      <td>Underwater</td>\n",
       "      <td>604</td>\n",
       "    </tr>\n",
       "    <tr>\n",
       "      <th>65080</th>\n",
       "      <td>98948</td>\n",
       "      <td>1C8HFQV7xVoFXJ3wUIcPCR</td>\n",
       "      <td>Mori Naiya Dagmag Dole</td>\n",
       "      <td>372</td>\n",
       "    </tr>\n",
       "    <tr>\n",
       "      <th>40310</th>\n",
       "      <td>132281</td>\n",
       "      <td>309HWpiuuMEJoKDls5fMQ1</td>\n",
       "      <td>Bermuda Nights</td>\n",
       "      <td>235</td>\n",
       "    </tr>\n",
       "    <tr>\n",
       "      <th>41578</th>\n",
       "      <td>42903</td>\n",
       "      <td>09HGG1fJrIGFcHnBD5UXig</td>\n",
       "      <td>1776: Overture</td>\n",
       "      <td>245</td>\n",
       "    </tr>\n",
       "    <tr>\n",
       "      <th>87288</th>\n",
       "      <td>154722</td>\n",
       "      <td>0cc1sgKtjZtMEzH1qE9tS0</td>\n",
       "      <td>The Sorcerer / Act 1: 15. Sprites of earth and...</td>\n",
       "      <td>492</td>\n",
       "    </tr>\n",
       "  </tbody>\n",
       "</table>\n",
       "</div>"
      ],
      "text/plain": [
       "        Unnamed: 0                      id  \\\n",
       "70602        54018  2o8niievE9IAVquiESfTWJ   \n",
       "48543        16545  5rEyEaL5NrG9AV0GQHewyl   \n",
       "122284       33447  1i2Rj6GA7i9Xr8vuktOlpS   \n",
       "21100        82545  4CoGNqLap7UGU5Q3VdKug0   \n",
       "26162       129370  6HV6DsfmpJnEjNAfMzzlyK   \n",
       "133863       94387  0SaopEgTo6O5dJoFXBbulL   \n",
       "13911        61904  4qheoQdPn1nJ7QLGDGCSdb   \n",
       "11068        77047  0jicrrstuAzf6GLIUdwAQk   \n",
       "144077       72257  5VU8Ztn9dWxQNB8JNDPoMW   \n",
       "135558      165206  3Xvab69hUWlLaFOfbzm99k   \n",
       "126547      167433  4E34Cz22xGL2J7j8pR10A4   \n",
       "48749        43993  1lODANC77agFtJurYOsEzz   \n",
       "16583       136752  1QHKwkMJe7JfusODITplwj   \n",
       "33557        78920  0UMQb3B6f7AcvWocXizwOM   \n",
       "72697       124039  0GvaNolz2vhHikR26yRLmv   \n",
       "106840       39940  5ZvHcR4OSwvEV5IhigbTOT   \n",
       "65080        98948  1C8HFQV7xVoFXJ3wUIcPCR   \n",
       "40310       132281  309HWpiuuMEJoKDls5fMQ1   \n",
       "41578        42903  09HGG1fJrIGFcHnBD5UXig   \n",
       "87288       154722  0cc1sgKtjZtMEzH1qE9tS0   \n",
       "\n",
       "                                                     name  label  \n",
       "70602                                           Breakdown    398  \n",
       "48543                         The Four Insurgent Generals    283  \n",
       "122284                              The Man I Love - Live    693  \n",
       "21100                              Ain't Too Proud To Beg    126  \n",
       "26162                             It Ain't Necessarily So    158  \n",
       "133863          Friends Will Be Friends - Remastered 2011    762  \n",
       "13911                             The Bleeding (Acoustic)     79  \n",
       "11068                                                Loco     65  \n",
       "144077                      Train Of Love (2017 Remaster)    827  \n",
       "135558                                      Nobody's Fool    773  \n",
       "126547                                   Get Up On a Room    716  \n",
       "48749                      I've Aged Twenty Years In Five    284  \n",
       "16583             Preludes, Op.34: No. 14 in E-Flat Minor     95  \n",
       "33557                          Часть 92.2 - Прощай оружие    197  \n",
       "72697                                         Wendy Clear    408  \n",
       "106840                                         Underwater    604  \n",
       "65080                              Mori Naiya Dagmag Dole    372  \n",
       "40310                                      Bermuda Nights    235  \n",
       "41578                                      1776: Overture    245  \n",
       "87288   The Sorcerer / Act 1: 15. Sprites of earth and...    492  "
      ]
     },
     "execution_count": 12,
     "metadata": {},
     "output_type": "execute_result"
    }
   ],
   "source": [
    "test_df = pd.read_csv(\"../data/min.csv\")\n",
    "\n",
    "test_df.sample(20)"
   ]
  }
 ],
 "metadata": {
  "kernelspec": {
   "display_name": "Python 3 (ipykernel)",
   "language": "python",
   "name": "python3"
  },
  "language_info": {
   "codemirror_mode": {
    "name": "ipython",
    "version": 3
   },
   "file_extension": ".py",
   "mimetype": "text/x-python",
   "name": "python",
   "nbconvert_exporter": "python",
   "pygments_lexer": "ipython3",
   "version": "3.8.10"
  }
 },
 "nbformat": 4,
 "nbformat_minor": 5
}
